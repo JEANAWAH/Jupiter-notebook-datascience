{
 "cells": [
  {
   "cell_type": "markdown",
   "id": "16a38b18-e463-4381-9ab3-b11ffa1253fa",
   "metadata": {},
   "source": [
    "# Data Science Tools and Ecosystem"
   ]
  },
  {
   "cell_type": "markdown",
   "id": "94d2c303-1fe2-4438-b164-c70ce0164657",
   "metadata": {},
   "source": [
    "In this notebook, Data Science Tools and Ecosystem are summarized."
   ]
  },
  {
   "cell_type": "markdown",
   "id": "d25b2341-b2f7-40ac-a6fa-885c116bb02a",
   "metadata": {},
   "source": [
    "## Data Science Languages\n",
    "Some of the popular languages that Data Scientists use are:\n",
    "1. Python\n",
    "2. R\n",
    "3. SQL\n",
    "4. Julia\n",
    "5. Scala"
   ]
  },
  {
   "cell_type": "markdown",
   "id": "6f93fb93-accc-44a3-8cd7-3a012b111757",
   "metadata": {},
   "source": [
    "## Data Science Libraries\n",
    "Some of the commonly used libraries used by Data Scientists include:\n",
    "1. Pandas\n",
    "2. NumPy\n",
    "3. Matplotlib\n",
    "4. Scikit-learn\n",
    "5. TensorFlow"
   ]
  },
  {
   "cell_type": "markdown",
   "id": "7176c247-cf60-4651-a04e-c03c3e5c3b2a",
   "metadata": {},
   "source": [
    "## Data Science Tools\n",
    "| Data Science Tools       |\n",
    "|--------------------------|\n",
    "| Jupyter Notebook         |\n",
    "| RStudio                  |\n",
    "| Apache Spark             |"
   ]
  },
  {
   "cell_type": "markdown",
   "id": "5072abcb-a48c-497d-91d8-f455053785cd",
   "metadata": {},
   "source": [
    "### Below are a few examples of evaluating arithmetic expressions in Python."
   ]
  },
  {
   "cell_type": "code",
   "execution_count": 21,
   "id": "55d3f10c-1b14-4dc5-bee4-16488e25da46",
   "metadata": {},
   "outputs": [
    {
     "data": {
      "text/plain": [
       "17"
      ]
     },
     "execution_count": 21,
     "metadata": {},
     "output_type": "execute_result"
    }
   ],
   "source": [
    "# This a simple arithmetic expression to multiply then add integers\n",
    "(3 * 4) + 5"
   ]
  },
  {
   "cell_type": "code",
   "execution_count": 22,
   "id": "093779dd-5fd9-4393-be8f-efdb3a71b18e",
   "metadata": {},
   "outputs": [
    {
     "data": {
      "text/plain": [
       "3.3333333333333335"
      ]
     },
     "execution_count": 22,
     "metadata": {},
     "output_type": "execute_result"
    }
   ],
   "source": [
    "# This will convert 200 minutes to hours by dividing by 60\n",
    "200 / 60"
   ]
  },
  {
   "cell_type": "markdown",
   "id": "9941484a-2b20-449b-92b2-77777f7dc9a6",
   "metadata": {},
   "source": [
    "## Objectives:\n",
    "- List popular languages for Data Science.\n",
    "- Identify commonly used libraries in Data Science.\n",
    "- Summarize open-source tools for Data Science.\n",
    "- Provide examples of arithmetic operations in Python."
   ]
  },
  {
   "cell_type": "markdown",
   "id": "2c4246a5-1a5f-44d8-8607-547f186bb21f",
   "metadata": {},
   "source": [
    "## Author\n",
    "AWAHNJI JEAN AWAH"
   ]
  }
 ],
 "metadata": {
  "kernelspec": {
   "display_name": "Python 3 (ipykernel)",
   "language": "python",
   "name": "python3"
  },
  "language_info": {
   "codemirror_mode": {
    "name": "ipython",
    "version": 3
   },
   "file_extension": ".py",
   "mimetype": "text/x-python",
   "name": "python",
   "nbconvert_exporter": "python",
   "pygments_lexer": "ipython3",
   "version": "3.12.8"
  }
 },
 "nbformat": 4,
 "nbformat_minor": 5
}
